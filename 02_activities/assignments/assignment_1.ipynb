{
 "cells": [
  {
   "cell_type": "markdown",
   "id": "7b0bcac6-5086-4f4e-928a-570a9ff7ae58",
   "metadata": {},
   "source": [
    "# Assignment 1"
   ]
  },
  {
   "cell_type": "markdown",
   "id": "5fce0350-2a17-4e93-8d4c-0b8748fdfc32",
   "metadata": {},
   "source": [
    "All required code is a single line. The length of your response for questions that require identification and/or interpretation will not be considered in evaluation. For example, if a question can be answered with 'yes/no', or a numeric value, you may simply state as much. \n",
    "\n",
    "We will go through comparable code and concepts in the live learning session. If you run into trouble, start by using the help `help()` function in Python, to get information about the datasets and function in question. The internet is also a great resource when coding (though note that no outside searches are required by the assignment!). If you do incorporate code from the internet, please cite the source within your code (providing a URL is sufficient).\n",
    "\n",
    "Please bring questions that you cannot work out on your own to office hours, work periods or share with your peers on Slack. We will work with you through the issue."
   ]
  },
  {
   "cell_type": "markdown",
   "id": "5fc5001c-7715-4ebe-b0f7-e4bd04349629",
   "metadata": {},
   "source": [
    "### Question 1: Simple Linear Regression \n",
    "\n",
    "Let's set up our workspace and use the `Boston` dataset in the `ISLP` library. Print `Boston` to learn more about the dataset."
   ]
  },
  {
   "cell_type": "code",
   "execution_count": 47,
   "id": "4a3485d6-ba58-4660-a983-5680821c5719",
   "metadata": {},
   "outputs": [],
   "source": [
    "# Import standard libraries\n",
    "import numpy as np\n",
    "import pandas as pd\n",
    "import seaborn as sns\n",
    "from matplotlib.pyplot import subplots\n",
    "import statsmodels.api as sm\n",
    "import matplotlib.pyplot as plt\n",
    "from sklearn.linear_model import LinearRegression\n",
    "\n",
    "# Import specific objects"
   ]
  },
  {
   "cell_type": "code",
   "execution_count": 48,
   "id": "a431d282-f9ca-4d5d-8912-71ffc9d8ea19",
   "metadata": {},
   "outputs": [
    {
     "data": {
      "text/html": [
       "<div>\n",
       "<style scoped>\n",
       "    .dataframe tbody tr th:only-of-type {\n",
       "        vertical-align: middle;\n",
       "    }\n",
       "\n",
       "    .dataframe tbody tr th {\n",
       "        vertical-align: top;\n",
       "    }\n",
       "\n",
       "    .dataframe thead th {\n",
       "        text-align: right;\n",
       "    }\n",
       "</style>\n",
       "<table border=\"1\" class=\"dataframe\">\n",
       "  <thead>\n",
       "    <tr style=\"text-align: right;\">\n",
       "      <th></th>\n",
       "      <th>RM</th>\n",
       "      <th>LSTAT</th>\n",
       "      <th>PTRATIO</th>\n",
       "      <th>MEDV</th>\n",
       "    </tr>\n",
       "  </thead>\n",
       "  <tbody>\n",
       "    <tr>\n",
       "      <th>0</th>\n",
       "      <td>6.575</td>\n",
       "      <td>4.98</td>\n",
       "      <td>15.3</td>\n",
       "      <td>504000.0</td>\n",
       "    </tr>\n",
       "    <tr>\n",
       "      <th>1</th>\n",
       "      <td>6.421</td>\n",
       "      <td>9.14</td>\n",
       "      <td>17.8</td>\n",
       "      <td>453600.0</td>\n",
       "    </tr>\n",
       "    <tr>\n",
       "      <th>2</th>\n",
       "      <td>7.185</td>\n",
       "      <td>4.03</td>\n",
       "      <td>17.8</td>\n",
       "      <td>728700.0</td>\n",
       "    </tr>\n",
       "    <tr>\n",
       "      <th>3</th>\n",
       "      <td>6.998</td>\n",
       "      <td>2.94</td>\n",
       "      <td>18.7</td>\n",
       "      <td>701400.0</td>\n",
       "    </tr>\n",
       "    <tr>\n",
       "      <th>4</th>\n",
       "      <td>7.147</td>\n",
       "      <td>5.33</td>\n",
       "      <td>18.7</td>\n",
       "      <td>760200.0</td>\n",
       "    </tr>\n",
       "    <tr>\n",
       "      <th>...</th>\n",
       "      <td>...</td>\n",
       "      <td>...</td>\n",
       "      <td>...</td>\n",
       "      <td>...</td>\n",
       "    </tr>\n",
       "    <tr>\n",
       "      <th>484</th>\n",
       "      <td>6.593</td>\n",
       "      <td>9.67</td>\n",
       "      <td>21.0</td>\n",
       "      <td>470400.0</td>\n",
       "    </tr>\n",
       "    <tr>\n",
       "      <th>485</th>\n",
       "      <td>6.120</td>\n",
       "      <td>9.08</td>\n",
       "      <td>21.0</td>\n",
       "      <td>432600.0</td>\n",
       "    </tr>\n",
       "    <tr>\n",
       "      <th>486</th>\n",
       "      <td>6.976</td>\n",
       "      <td>5.64</td>\n",
       "      <td>21.0</td>\n",
       "      <td>501900.0</td>\n",
       "    </tr>\n",
       "    <tr>\n",
       "      <th>487</th>\n",
       "      <td>6.794</td>\n",
       "      <td>6.48</td>\n",
       "      <td>21.0</td>\n",
       "      <td>462000.0</td>\n",
       "    </tr>\n",
       "    <tr>\n",
       "      <th>488</th>\n",
       "      <td>6.030</td>\n",
       "      <td>7.88</td>\n",
       "      <td>21.0</td>\n",
       "      <td>249900.0</td>\n",
       "    </tr>\n",
       "  </tbody>\n",
       "</table>\n",
       "<p>489 rows × 4 columns</p>\n",
       "</div>"
      ],
      "text/plain": [
       "        RM  LSTAT  PTRATIO      MEDV\n",
       "0    6.575   4.98     15.3  504000.0\n",
       "1    6.421   9.14     17.8  453600.0\n",
       "2    7.185   4.03     17.8  728700.0\n",
       "3    6.998   2.94     18.7  701400.0\n",
       "4    7.147   5.33     18.7  760200.0\n",
       "..     ...    ...      ...       ...\n",
       "484  6.593   9.67     21.0  470400.0\n",
       "485  6.120   9.08     21.0  432600.0\n",
       "486  6.976   5.64     21.0  501900.0\n",
       "487  6.794   6.48     21.0  462000.0\n",
       "488  6.030   7.88     21.0  249900.0\n",
       "\n",
       "[489 rows x 4 columns]"
      ]
     },
     "execution_count": 48,
     "metadata": {},
     "output_type": "execute_result"
    }
   ],
   "source": [
    "# Load the \"Boston\" dataset using the \"load_data\" function from the ISLP package\n",
    "data=pd.read_csv(r\"C:\\Users\\ibast\\OneDrive\\Desktop\\data\\boston_housing.csv\")\n",
    "data"
   ]
  },
  {
   "cell_type": "code",
   "execution_count": 32,
   "id": "3e36030e",
   "metadata": {},
   "outputs": [
    {
     "name": "stdout",
     "output_type": "stream",
     "text": [
      "Index(['RM', 'LSTAT', 'PTRATIO', 'MEDV'], dtype='object')\n"
     ]
    },
    {
     "data": {
      "text/plain": [
       "RangeIndex(start=0, stop=489, step=1)"
      ]
     },
     "execution_count": 32,
     "metadata": {},
     "output_type": "execute_result"
    }
   ],
   "source": [
    "print(data.columns)\n",
    "data.index"
   ]
  },
  {
   "cell_type": "code",
   "execution_count": 9,
   "id": "dd2618a8",
   "metadata": {},
   "outputs": [
    {
     "name": "stdout",
     "output_type": "stream",
     "text": [
      "<class 'pandas.core.frame.DataFrame'>\n",
      "RangeIndex: 489 entries, 0 to 488\n",
      "Data columns (total 4 columns):\n",
      " #   Column   Non-Null Count  Dtype  \n",
      "---  ------   --------------  -----  \n",
      " 0   RM       489 non-null    float64\n",
      " 1   LSTAT    489 non-null    float64\n",
      " 2   PTRATIO  489 non-null    float64\n",
      " 3   MEDV     489 non-null    float64\n",
      "dtypes: float64(4)\n",
      "memory usage: 15.4 KB\n"
     ]
    }
   ],
   "source": [
    "data.info()"
   ]
  },
  {
   "cell_type": "code",
   "execution_count": 11,
   "id": "4b81e387",
   "metadata": {},
   "outputs": [
    {
     "data": {
      "text/html": [
       "<div>\n",
       "<style scoped>\n",
       "    .dataframe tbody tr th:only-of-type {\n",
       "        vertical-align: middle;\n",
       "    }\n",
       "\n",
       "    .dataframe tbody tr th {\n",
       "        vertical-align: top;\n",
       "    }\n",
       "\n",
       "    .dataframe thead th {\n",
       "        text-align: right;\n",
       "    }\n",
       "</style>\n",
       "<table border=\"1\" class=\"dataframe\">\n",
       "  <thead>\n",
       "    <tr style=\"text-align: right;\">\n",
       "      <th></th>\n",
       "      <th>RM</th>\n",
       "      <th>LSTAT</th>\n",
       "      <th>PTRATIO</th>\n",
       "      <th>MEDV</th>\n",
       "    </tr>\n",
       "  </thead>\n",
       "  <tbody>\n",
       "    <tr>\n",
       "      <th>count</th>\n",
       "      <td>489.000000</td>\n",
       "      <td>489.000000</td>\n",
       "      <td>489.000000</td>\n",
       "      <td>4.890000e+02</td>\n",
       "    </tr>\n",
       "    <tr>\n",
       "      <th>mean</th>\n",
       "      <td>6.240288</td>\n",
       "      <td>12.939632</td>\n",
       "      <td>18.516564</td>\n",
       "      <td>4.543429e+05</td>\n",
       "    </tr>\n",
       "    <tr>\n",
       "      <th>std</th>\n",
       "      <td>0.643650</td>\n",
       "      <td>7.081990</td>\n",
       "      <td>2.111268</td>\n",
       "      <td>1.653403e+05</td>\n",
       "    </tr>\n",
       "    <tr>\n",
       "      <th>min</th>\n",
       "      <td>3.561000</td>\n",
       "      <td>1.980000</td>\n",
       "      <td>12.600000</td>\n",
       "      <td>1.050000e+05</td>\n",
       "    </tr>\n",
       "    <tr>\n",
       "      <th>25%</th>\n",
       "      <td>5.880000</td>\n",
       "      <td>7.370000</td>\n",
       "      <td>17.400000</td>\n",
       "      <td>3.507000e+05</td>\n",
       "    </tr>\n",
       "    <tr>\n",
       "      <th>50%</th>\n",
       "      <td>6.185000</td>\n",
       "      <td>11.690000</td>\n",
       "      <td>19.100000</td>\n",
       "      <td>4.389000e+05</td>\n",
       "    </tr>\n",
       "    <tr>\n",
       "      <th>75%</th>\n",
       "      <td>6.575000</td>\n",
       "      <td>17.120000</td>\n",
       "      <td>20.200000</td>\n",
       "      <td>5.187000e+05</td>\n",
       "    </tr>\n",
       "    <tr>\n",
       "      <th>max</th>\n",
       "      <td>8.398000</td>\n",
       "      <td>37.970000</td>\n",
       "      <td>22.000000</td>\n",
       "      <td>1.024800e+06</td>\n",
       "    </tr>\n",
       "  </tbody>\n",
       "</table>\n",
       "</div>"
      ],
      "text/plain": [
       "               RM       LSTAT     PTRATIO          MEDV\n",
       "count  489.000000  489.000000  489.000000  4.890000e+02\n",
       "mean     6.240288   12.939632   18.516564  4.543429e+05\n",
       "std      0.643650    7.081990    2.111268  1.653403e+05\n",
       "min      3.561000    1.980000   12.600000  1.050000e+05\n",
       "25%      5.880000    7.370000   17.400000  3.507000e+05\n",
       "50%      6.185000   11.690000   19.100000  4.389000e+05\n",
       "75%      6.575000   17.120000   20.200000  5.187000e+05\n",
       "max      8.398000   37.970000   22.000000  1.024800e+06"
      ]
     },
     "execution_count": 11,
     "metadata": {},
     "output_type": "execute_result"
    }
   ],
   "source": [
    "data.describe()"
   ]
  },
  {
   "cell_type": "code",
   "execution_count": 18,
   "id": "ff5feec6",
   "metadata": {},
   "outputs": [
    {
     "name": "stdout",
     "output_type": "stream",
     "text": [
      "medv shape: (489, 1)\n",
      "dis shape: (489, 1)\n"
     ]
    }
   ],
   "source": [
    "\n",
    "\n",
    "\n",
    "# Extract 'medv' (median value of owner-occupied homes) and 'dis' (weighted distances)\n",
    "medv = data['MEDV'].values.reshape(-1, 1)  # Target variable\n",
    "dis = data['LSTAT'].values.reshape(-1, 1)    # Feature variable\n",
    "\n",
    "# Check the shape of the extracted arrays\n",
    "print(f\"medv shape: {medv.shape}\")\n",
    "print(f\"dis shape: {dis.shape}\")\n"
   ]
  },
  {
   "cell_type": "markdown",
   "id": "9312cc4e-e77d-41c9-84ce-48384ca51984",
   "metadata": {},
   "source": [
    "Before we fit and review model outputs, we should visualize our data. Review the code and plot, shown below. Answer the following questions:\n",
    "\n",
    "_(i)_ What are the `medv` and `dis` variables being plotted? (Hint: review this [link](https://islp.readthedocs.io/en/latest/datasets/Boston.html))\n",
    "\n",
    "_(ii)_ What concept ‘defines’ the plotted line?"
   ]
  },
  {
   "cell_type": "code",
   "execution_count": 20,
   "id": "5486481b-e496-41f0-bc9c-a7073c82fbb8",
   "metadata": {},
   "outputs": [
    {
     "data": {
      "image/png": "[encoded data removed]",
      "text/plain": [
       "<Figure size 640x480 with 1 Axes>"
      ]
     },
     "metadata": {},
     "output_type": "display_data"
    }
   ],
   "source": [
    "\n",
    "\n",
    "# Plot data\n",
    "plt.scatter(dis, medv, label='Data')\n",
    "plt.xlabel('dis')\n",
    "plt.ylabel('medv')\n",
    "\n",
    "# Fit a linear regression model\n",
    "lm = LinearRegression()\n",
    "lm.fit(dis, medv)\n",
    "\n",
    "# Plot the regression line\n",
    "plt.plot(dis, lm.predict(dis), color='red', label='Regression Line')\n",
    "\n",
    "# Add labels and legend\n",
    "plt.xlabel('dis')\n",
    "plt.ylabel('medv')\n",
    "plt.legend()\n",
    "\n",
    "# Show the plot\n",
    "plt.show()"
   ]
  },
  {
   "cell_type": "code",
   "execution_count": null,
   "id": "e58237a9",
   "metadata": {},
   "outputs": [],
   "source": []
  },
  {
   "attachments": {},
   "cell_type": "markdown",
   "id": "3fb5ea2a-ee48-448c-a028-784236c1c999",
   "metadata": {},
   "source": [
    "Consider the variables plotted above. In the context of the `Boston` dataset:\n",
    "\n",
    "_(iii)_ What is the (implied) null hypothesis? What is the (implied) alternative hypothesis?\n",
    "\n",
    "_(iv)_ Now, let’s fit a simple regression model, using the general syntax `sm.OLS()` and `model.fit()`. As above, use `medv` as the response variable Y, and `dis` as the predictor variable X. (Hint: use the syntax `sm.add_constant` with the appropriate argument)."
   ]
  },
  {
   "cell_type": "code",
   "execution_count": 21,
   "id": "88dbac72",
   "metadata": {},
   "outputs": [
    {
     "name": "stdout",
     "output_type": "stream",
     "text": [
      "                            OLS Regression Results                            \n",
      "==============================================================================\n",
      "Dep. Variable:                      y   R-squared:                       0.579\n",
      "Model:                            OLS   Adj. R-squared:                  0.578\n",
      "Method:                 Least Squares   F-statistic:                     668.7\n",
      "Date:                Tue, 24 Sep 2024   Prob (F-statistic):           1.93e-93\n",
      "Time:                        21:08:31   Log-Likelihood:                -6357.8\n",
      "No. Observations:                 489   AIC:                         1.272e+04\n",
      "Df Residuals:                     487   BIC:                         1.273e+04\n",
      "Df Model:                           1                                         \n",
      "Covariance Type:            nonrobust                                         \n",
      "==============================================================================\n",
      "                 coef    std err          t      P>|t|      [0.025      0.975]\n",
      "------------------------------------------------------------------------------\n",
      "const       6.841e+05   1.01e+04     67.551      0.000    6.64e+05    7.04e+05\n",
      "x1         -1.776e+04    686.746    -25.860      0.000   -1.91e+04   -1.64e+04\n",
      "==============================================================================\n",
      "Omnibus:                      105.652   Durbin-Watson:                   1.006\n",
      "Prob(Omnibus):                  0.000   Jarque-Bera (JB):              198.227\n",
      "Skew:                           1.217   Prob(JB):                     9.03e-44\n",
      "Kurtosis:                       4.950   Cond. No.                         30.9\n",
      "==============================================================================\n",
      "\n",
      "Notes:\n",
      "[1] Standard Errors assume that the covariance matrix of the errors is correctly specified.\n"
     ]
    }
   ],
   "source": [
    "import statsmodels.api as sm\n",
    "\n",
    "# Add a constant (intercept) to the predictor variable 'dis'\n",
    "X = sm.add_constant(dis)  # Adds an intercept (β₀) term to the model\n",
    "Y = medv\n",
    "\n",
    "# Fit the OLS regression model\n",
    "model = sm.OLS(Y, X)       # Ordinary Least Squares (OLS) regression\n",
    "results = model.fit()      # Fit the model\n",
    "\n",
    "# Print the summary of the model\n",
    "print(results.summary())"
   ]
  },
  {
   "cell_type": "markdown",
   "id": "ebacfc94-686d-4c5a-a2f3-15240f13d212",
   "metadata": {},
   "source": [
    "Review your model output to answer the following questions (Hint: use the `summary` and `conf_int` functions):    \n",
    "_(v)_ What are the _coefficient estimates_ for $B_0$ (intercept) and $B_1$ (slope)?  \n",
    "_(vi)_ What are the _standard errors_ for $B_0$ and $B_1$?  \n",
    "_(vii)_ What are the _confidence intervals_ for $B_0$ and $B_1$?  \n"
   ]
  },
  {
   "cell_type": "code",
   "execution_count": 22,
   "id": "7ffe554a",
   "metadata": {},
   "outputs": [
    {
     "name": "stdout",
     "output_type": "stream",
     "text": [
      "Intercept (B₀): 684138.4930684498\n",
      "Slope (B₁): -17759.04832737075\n"
     ]
    }
   ],
   "source": [
    "# ANS (V)  the coefficient estimates\n",
    "intercept, slope = results.params\n",
    "print(f\"Intercept (B₀): {intercept}\")\n",
    "print(f\"Slope (B₁): {slope}\")"
   ]
  },
  {
   "cell_type": "code",
   "execution_count": 23,
   "id": "66942bfa",
   "metadata": {},
   "outputs": [
    {
     "name": "stdout",
     "output_type": "stream",
     "text": [
      "Standard Error of B₀: 10127.730392636535\n",
      "Standard Error of B₁: 686.7463997310351\n"
     ]
    }
   ],
   "source": [
    "# ANS (VI)  the standard errors\n",
    "std_err_intercept, std_err_slope = results.bse\n",
    "print(f\"Standard Error of B₀: {std_err_intercept}\")\n",
    "print(f\"Standard Error of B₁: {std_err_slope}\")\n"
   ]
  },
  {
   "cell_type": "code",
   "execution_count": 24,
   "id": "b536b276",
   "metadata": {},
   "outputs": [
    {
     "name": "stdout",
     "output_type": "stream",
     "text": [
      "Confidence Interval for B₀ (Intercept): [664239.05136698 704037.93476991]\n",
      "Confidence Interval for B₁ (Slope): [-19108.39999999 -16409.69665475]\n",
      "                            OLS Regression Results                            \n",
      "==============================================================================\n",
      "Dep. Variable:                      y   R-squared:                       0.579\n",
      "Model:                            OLS   Adj. R-squared:                  0.578\n",
      "Method:                 Least Squares   F-statistic:                     668.7\n",
      "Date:                Tue, 24 Sep 2024   Prob (F-statistic):           1.93e-93\n",
      "Time:                        21:14:04   Log-Likelihood:                -6357.8\n",
      "No. Observations:                 489   AIC:                         1.272e+04\n",
      "Df Residuals:                     487   BIC:                         1.273e+04\n",
      "Df Model:                           1                                         \n",
      "Covariance Type:            nonrobust                                         \n",
      "==============================================================================\n",
      "                 coef    std err          t      P>|t|      [0.025      0.975]\n",
      "------------------------------------------------------------------------------\n",
      "const       6.841e+05   1.01e+04     67.551      0.000    6.64e+05    7.04e+05\n",
      "x1         -1.776e+04    686.746    -25.860      0.000   -1.91e+04   -1.64e+04\n",
      "==============================================================================\n",
      "Omnibus:                      105.652   Durbin-Watson:                   1.006\n",
      "Prob(Omnibus):                  0.000   Jarque-Bera (JB):              198.227\n",
      "Skew:                           1.217   Prob(JB):                     9.03e-44\n",
      "Kurtosis:                       4.950   Cond. No.                         30.9\n",
      "==============================================================================\n",
      "\n",
      "Notes:\n",
      "[1] Standard Errors assume that the covariance matrix of the errors is correctly specified.\n"
     ]
    }
   ],
   "source": [
    "# ANS (VII)  the confidence intervals for B₀ and B₁\n",
    "conf_int = results.conf_int()\n",
    "print(f\"Confidence Interval for B₀ (Intercept): {conf_int[0]}\")\n",
    "print(f\"Confidence Interval for B₁ (Slope): {conf_int[1]}\")\n",
    "# Summary of the model\n",
    "print(results.summary())"
   ]
  },
  {
   "cell_type": "markdown",
   "id": "e7df8b44",
   "metadata": {},
   "source": [
    "\n",
    "Now, let's interpret the model output.  \n",
    "_(viii)_ Is the model a good fit? (Hint: review $R^2$)  \n",
    "_(ix)_ Do we reject the (implied) null hypothesis? Why or why not? (Hint: review model $F$ statistic, $p$ value).  "
   ]
  },
  {
   "cell_type": "code",
   "execution_count": 25,
   "id": "d7d2b412",
   "metadata": {},
   "outputs": [
    {
     "name": "stdout",
     "output_type": "stream",
     "text": [
      "R-squared: 0.5786189401388357\n"
     ]
    }
   ],
   "source": [
    "# ANS (VIII) The R-squared value\n",
    "r_squared = results.rsquared\n",
    "print(f\"R-squared: {r_squared}\")\n"
   ]
  },
  {
   "cell_type": "code",
   "execution_count": 26,
   "id": "2ad5c873",
   "metadata": {},
   "outputs": [
    {
     "name": "stdout",
     "output_type": "stream",
     "text": [
      "F-statistic: 668.723515813586\n",
      "P-value: 1.925205638269376e-93\n"
     ]
    }
   ],
   "source": [
    "# ANS (IX) The F-statistic and its associated p-value\n",
    "f_statistic = results.fvalue\n",
    "p_value = results.f_pvalue\n",
    "print(f\"F-statistic: {f_statistic}\")\n",
    "print(f\"P-value: {p_value}\")\n"
   ]
  },
  {
   "cell_type": "markdown",
   "id": "b4f7116b-6a10-41be-85a3-9d11402f02bd",
   "metadata": {},
   "source": [
    "### Question 2: Multiple Linear Regression \n",
    "\n",
    "We'll continue to use the `Boston` dataset for this question."
   ]
  },
  {
   "cell_type": "markdown",
   "id": "bce1e0bf-3c57-47c8-af30-464e6f584169",
   "metadata": {},
   "source": [
    "_(i)_ Fit a multiple linear regression, with two predictor variables: $X_1$ is `dis`, and $X_2$ is `rm`. As before, keep `medv` as the response variable Y. (Hint: use the syntax `sm.add_constant` with the appropriate arguments)."
   ]
  },
  {
   "cell_type": "markdown",
   "id": "1f9f4f97-5935-4cd5-a691-512d4b6a66c6",
   "metadata": {},
   "source": [
    "_(ii)_ In the context of the `Boston` dataset, state the null and alternative hypotheses.\n",
    "\n",
    "_(iii)_ Review the model output, using `summary()`. Does it appear that both `dis` and `rm` are predictive of `medv`? How did you determine this?\n",
    "\n",
    "_(iv)_ We can use the inbuilt `sm.graphics.plot_regress_exog` function to generate helpful diagnostic plots (Hint: provide `plot_regress_exog` with the multiple regression model). Review the first generated plot, 'Residuals vs. Fitted'. Which observations are outliers? What impact might outliers have on our model?"
   ]
  },
  {
   "cell_type": "code",
   "execution_count": 28,
   "id": "8c0d1d6f",
   "metadata": {},
   "outputs": [
    {
     "name": "stdout",
     "output_type": "stream",
     "text": [
      "                            OLS Regression Results                            \n",
      "==============================================================================\n",
      "Dep. Variable:                      y   R-squared:                       0.664\n",
      "Model:                            OLS   Adj. R-squared:                  0.663\n",
      "Method:                 Least Squares   F-statistic:                     481.1\n",
      "Date:                Tue, 24 Sep 2024   Prob (F-statistic):          5.85e-116\n",
      "Time:                        21:21:21   Log-Likelihood:                -6302.1\n",
      "No. Observations:                 489   AIC:                         1.261e+04\n",
      "Df Residuals:                     486   BIC:                         1.262e+04\n",
      "Df Model:                           2                                         \n",
      "Covariance Type:            nonrobust                                         \n",
      "==============================================================================\n",
      "                 coef    std err          t      P>|t|      [0.025      0.975]\n",
      "------------------------------------------------------------------------------\n",
      "const        2.19e+04   6.01e+04      0.364      0.716   -9.62e+04     1.4e+05\n",
      "x1         -1.247e+04    775.741    -16.070      0.000    -1.4e+04   -1.09e+04\n",
      "x2          9.515e+04   8535.371     11.148      0.000    7.84e+04    1.12e+05\n",
      "==============================================================================\n",
      "Omnibus:                       54.190   Durbin-Watson:                   0.919\n",
      "Prob(Omnibus):                  0.000   Jarque-Bera (JB):               79.109\n",
      "Skew:                           0.764   Prob(JB):                     6.63e-18\n",
      "Kurtosis:                       4.244   Cond. No.                         220.\n",
      "==============================================================================\n",
      "\n",
      "Notes:\n",
      "[1] Standard Errors assume that the covariance matrix of the errors is correctly specified.\n"
     ]
    }
   ],
   "source": [
    "import statsmodels.api as sm\n",
    "\n",
    "# Extract the predictor variables (X1 = dis, X2 = rm) and the response variable (Y = medv)\n",
    "X1 = data['LSTAT'].values.reshape(-1, 1)\n",
    "X2 = data['RM'].values.reshape(-1, 1)\n",
    "Y = data['MEDV'].values.reshape(-1, 1)\n",
    "\n",
    "# Combine X1 and X2 into a single predictor matrix\n",
    "X = np.concatenate([X1, X2], axis=1)\n",
    "\n",
    "# Add a constant (intercept) to the predictor matrix\n",
    "X = sm.add_constant(X)\n",
    "\n",
    "# Fit the multiple linear regression model\n",
    "model = sm.OLS(Y, X)\n",
    "results = model.fit()\n",
    "\n",
    "# Print the summary of the regression results\n",
    "print(results.summary())"
   ]
  },
  {
   "cell_type": "markdown",
   "id": "02726275-c15a-4629-9b2c-19184b0d9fbb",
   "metadata": {},
   "source": [
    "_(v)_ Fit a second model, this time including an interaction between the two predictor variables. Is there an interaction? (Hint: add a variable `x1 * x2` where `x1` and `x2` are the predictor variables). State an interpretation of the interaction, in the context of the `Boston` dataset, in one or two sentences."
   ]
  },
  {
   "cell_type": "code",
   "execution_count": 29,
   "id": "789da998",
   "metadata": {},
   "outputs": [
    {
     "name": "stdout",
     "output_type": "stream",
     "text": [
      "                            OLS Regression Results                            \n",
      "==============================================================================\n",
      "Dep. Variable:                      y   R-squared:                       0.778\n",
      "Model:                            OLS   Adj. R-squared:                  0.777\n",
      "Method:                 Least Squares   F-statistic:                     567.4\n",
      "Date:                Tue, 24 Sep 2024   Prob (F-statistic):          3.66e-158\n",
      "Time:                        21:22:41   Log-Likelihood:                -6200.8\n",
      "No. Observations:                 489   AIC:                         1.241e+04\n",
      "Df Residuals:                     485   BIC:                         1.243e+04\n",
      "Df Model:                           3                                         \n",
      "Covariance Type:            nonrobust                                         \n",
      "==============================================================================\n",
      "                 coef    std err          t      P>|t|      [0.025      0.975]\n",
      "------------------------------------------------------------------------------\n",
      "const      -6.218e+05   6.37e+04     -9.764      0.000   -7.47e+05   -4.97e+05\n",
      "x1          4.401e+04   3634.325     12.108      0.000    3.69e+04    5.11e+04\n",
      "x2          2.011e+05   9660.553     20.816      0.000    1.82e+05     2.2e+05\n",
      "x3         -9596.0642    608.185    -15.778      0.000   -1.08e+04   -8401.062\n",
      "==============================================================================\n",
      "Omnibus:                       68.241   Durbin-Watson:                   0.992\n",
      "Prob(Omnibus):                  0.000   Jarque-Bera (JB):              146.792\n",
      "Skew:                           0.762   Prob(JB):                     1.33e-32\n",
      "Kurtosis:                       5.210   Cond. No.                     1.61e+03\n",
      "==============================================================================\n",
      "\n",
      "Notes:\n",
      "[1] Standard Errors assume that the covariance matrix of the errors is correctly specified.\n",
      "[2] The condition number is large, 1.61e+03. This might indicate that there are\n",
      "strong multicollinearity or other numerical problems.\n"
     ]
    }
   ],
   "source": [
    "# Create the interaction term (dis * rm)\n",
    "interaction = X1 * X2\n",
    "\n",
    "# Combine X1, X2, and the interaction term into a single predictor matrix\n",
    "X_interaction = np.concatenate([X1, X2, interaction], axis=1)\n",
    "\n",
    "# Add a constant (intercept) to the predictor matrix\n",
    "X_interaction = sm.add_constant(X_interaction)\n",
    "\n",
    "# Fit the multiple linear regression model with interaction\n",
    "model_interaction = sm.OLS(Y, X_interaction)\n",
    "results_interaction = model_interaction.fit()\n",
    "\n",
    "# Print the summary of the regression results\n",
    "print(results_interaction.summary())\n"
   ]
  },
  {
   "cell_type": "markdown",
   "id": "6f8a69db",
   "metadata": {},
   "source": [
    "# Criteria\n",
    "\n",
    "|Criteria            |Complete           |Incomplete          |\n",
    "|--------------------|---------------|--------------|\n",
    "|Simple Linear Regression - Standard errors for $B_0$ and $B_1$|The standard errors are correct.|The standard errors are not correct.|\n",
    "|Simple Linear Regression - Confidence intervals for $B_0$ and $B_1$|The confidence intervals are correct.|The confidence intervals are not correct.|\n",
    "|Multiple Linear Regression - Null and alternative hypotheses|The relationship for both hypotheses has been correctly identified.|The relationship for both hypotheses has been incorrectly identified.|\n",
    "|Multiple Linear Regression - Interpretation of the interaction|The interaction has been correctly identified.|The interaction has been incorrectly identified.|"
   ]
  },
  {
   "cell_type": "markdown",
   "id": "0b4390cc",
   "metadata": {},
   "source": [
    "## Submission Information\n",
    "\n",
    "🚨 **Please review our [Assignment Submission Guide](https://github.com/UofT-DSI/onboarding/blob/main/onboarding_documents/submissions.md)** 🚨 for detailed instructions on how to format, branch, and submit your work. Following these guidelines is crucial for your submissions to be evaluated correctly.\n",
    "\n",
    "### Note:\n",
    "\n",
    "If you like, you may collaborate with others in the cohort. If you choose to do so, please indicate with whom you have worked with in your pull request by tagging their GitHub username. Separate submissions are required.\n",
    "\n",
    "### Submission Parameters:\n",
    "* Submission Due Date: `HH:MM AM/PM - DD/MM/YYYY`\n",
    "* The branch name for your repo should be: `assignment-1`\n",
    "* What to submit for this assignment:\n",
    "    * This Jupyter Notebook (assignment_1.ipynb) should be populated and should be the only change in your pull request.\n",
    "* What the pull request link should look like for this assignment: `https://github.com/<your_github_username>/applying_statistical_concepts/pull/<pr_id>`\n",
    "    * Open a private window in your browser. Copy and paste the link to your pull request into the address bar. Make sure you can see your pull request properly. This helps the technical facilitator and learning support staff review your submission easily.\n",
    "\n",
    "Checklist:\n",
    "- [ ] Created a branch with the correct naming convention.\n",
    "- [ ] Ensured that the repository is public.\n",
    "- [ ] Reviewed the PR description guidelines and adhered to them.\n",
    "- [ ] Verify that the link is accessible in a private browser window.\n",
    "\n",
    "If you encounter any difficulties or have questions, please don't hesitate to reach out to our team via our Slack at `#cohort-3-help`. Our Technical Facilitators and Learning Support staff are here to help you navigate any challenges.\n"
   ]
  }
 ],
 "metadata": {
  "kernelspec": {
   "display_name": "Python 3.10.4",
   "language": "python",
   "name": "python3"
  },
  "language_info": {
   "codemirror_mode": {
    "name": "ipython",
    "version": 3
   },
   "file_extension": ".py",
   "mimetype": "text/x-python",
   "name": "python",
   "nbconvert_exporter": "python",
   "pygments_lexer": "ipython3",
   "version": "3.11.5"
  },
  "vscode": {
   "interpreter": {
    "hash": "497a84dc8fec8cf8d24e7e87b6d954c9a18a327edc66feb9b9ea7e9e72cc5c7e"
   }
  }
 },
 "nbformat": 4,
 "nbformat_minor": 5
}
