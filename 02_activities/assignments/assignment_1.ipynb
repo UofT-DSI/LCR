{
 "cells": [
  {
   "cell_type": "markdown",
   "id": "7b0bcac6-5086-4f4e-928a-570a9ff7ae58",
   "metadata": {},
   "source": [
    "# Assignment 1"
   ]
  },
  {
   "cell_type": "markdown",
   "id": "5fce0350-2a17-4e93-8d4c-0b8748fdfc32",
   "metadata": {},
   "source": [
    "You only need to write one line of code for each question. When answering questions that ask you to identify or interpret something, the length of your response doesn’t matter. For example, if the answer is just ‘yes,’ ‘no,’ or a number, you can just give that answer without adding anything else.\n",
    "\n",
    "We will go through comparable code and concepts in the live learning session. If you run into trouble, start by using the help `help()` function in Python, to get information about the datasets and function in question. The internet is also a great resource when coding (though note that **no outside searches are required by the assignment!**). If you do incorporate code from the internet, please cite the source within your code (providing a URL is sufficient).\n",
    "\n",
    "Please bring questions that you cannot work out on your own to office hours, work periods or share with your peers on Slack. We will work with you through the issue."
   ]
  },
  {
   "cell_type": "markdown",
   "id": "5fc5001c-7715-4ebe-b0f7-e4bd04349629",
   "metadata": {},
   "source": [
    "### Classification using KNN\n",
    "\n",
    "Let's set up our workspace and use the **Wine dataset** from `scikit-learn`. This dataset contains 178 wine samples with 13 chemical features, used to classify wines into different classes based on their origin.\n",
    "\n",
    "The **response variable** is `class`, which indicates the type of wine. We'll use all of the chemical features to predict this response variable."
   ]
  },
  {
   "cell_type": "code",
   "execution_count": 14,
   "id": "4a3485d6-ba58-4660-a983-5680821c5719",
   "metadata": {},
   "outputs": [],
   "source": [
    "# Import standard libraries\n",
    "import pandas as pd\n",
    "import numpy as np\n",
    "import random\n",
    "import matplotlib.pyplot as plt\n",
    "import matplotlib.colors as mcolors\n",
    "from sklearn.preprocessing import StandardScaler\n",
    "from sklearn.model_selection import train_test_split\n",
    "from sklearn.neighbors import KNeighborsClassifier\n",
    "from sklearn.metrics import recall_score, precision_score\n",
    "from sklearn.model_selection import cross_validate\n",
    "from sklearn.model_selection import GridSearchCV\n",
    "from sklearn.metrics import accuracy_score"
   ]
  },
  {
   "cell_type": "code",
   "execution_count": 15,
   "id": "a431d282-f9ca-4d5d-8912-71ffc9d8ea19",
   "metadata": {},
   "outputs": [
    {
     "data": {
      "text/html": [
       "<div>\n",
       "<style scoped>\n",
       "    .dataframe tbody tr th:only-of-type {\n",
       "        vertical-align: middle;\n",
       "    }\n",
       "\n",
       "    .dataframe tbody tr th {\n",
       "        vertical-align: top;\n",
       "    }\n",
       "\n",
       "    .dataframe thead th {\n",
       "        text-align: right;\n",
       "    }\n",
       "</style>\n",
       "<table border=\"1\" class=\"dataframe\">\n",
       "  <thead>\n",
       "    <tr style=\"text-align: right;\">\n",
       "      <th></th>\n",
       "      <th>alcohol</th>\n",
       "      <th>malic_acid</th>\n",
       "      <th>ash</th>\n",
       "      <th>alcalinity_of_ash</th>\n",
       "      <th>magnesium</th>\n",
       "      <th>total_phenols</th>\n",
       "      <th>flavanoids</th>\n",
       "      <th>nonflavanoid_phenols</th>\n",
       "      <th>proanthocyanins</th>\n",
       "      <th>color_intensity</th>\n",
       "      <th>hue</th>\n",
       "      <th>od280/od315_of_diluted_wines</th>\n",
       "      <th>proline</th>\n",
       "      <th>class</th>\n",
       "    </tr>\n",
       "  </thead>\n",
       "  <tbody>\n",
       "    <tr>\n",
       "      <th>0</th>\n",
       "      <td>14.23</td>\n",
       "      <td>1.71</td>\n",
       "      <td>2.43</td>\n",
       "      <td>15.6</td>\n",
       "      <td>127.0</td>\n",
       "      <td>2.80</td>\n",
       "      <td>3.06</td>\n",
       "      <td>0.28</td>\n",
       "      <td>2.29</td>\n",
       "      <td>5.64</td>\n",
       "      <td>1.04</td>\n",
       "      <td>3.92</td>\n",
       "      <td>1065.0</td>\n",
       "      <td>0</td>\n",
       "    </tr>\n",
       "    <tr>\n",
       "      <th>1</th>\n",
       "      <td>13.20</td>\n",
       "      <td>1.78</td>\n",
       "      <td>2.14</td>\n",
       "      <td>11.2</td>\n",
       "      <td>100.0</td>\n",
       "      <td>2.65</td>\n",
       "      <td>2.76</td>\n",
       "      <td>0.26</td>\n",
       "      <td>1.28</td>\n",
       "      <td>4.38</td>\n",
       "      <td>1.05</td>\n",
       "      <td>3.40</td>\n",
       "      <td>1050.0</td>\n",
       "      <td>0</td>\n",
       "    </tr>\n",
       "    <tr>\n",
       "      <th>2</th>\n",
       "      <td>13.16</td>\n",
       "      <td>2.36</td>\n",
       "      <td>2.67</td>\n",
       "      <td>18.6</td>\n",
       "      <td>101.0</td>\n",
       "      <td>2.80</td>\n",
       "      <td>3.24</td>\n",
       "      <td>0.30</td>\n",
       "      <td>2.81</td>\n",
       "      <td>5.68</td>\n",
       "      <td>1.03</td>\n",
       "      <td>3.17</td>\n",
       "      <td>1185.0</td>\n",
       "      <td>0</td>\n",
       "    </tr>\n",
       "    <tr>\n",
       "      <th>3</th>\n",
       "      <td>14.37</td>\n",
       "      <td>1.95</td>\n",
       "      <td>2.50</td>\n",
       "      <td>16.8</td>\n",
       "      <td>113.0</td>\n",
       "      <td>3.85</td>\n",
       "      <td>3.49</td>\n",
       "      <td>0.24</td>\n",
       "      <td>2.18</td>\n",
       "      <td>7.80</td>\n",
       "      <td>0.86</td>\n",
       "      <td>3.45</td>\n",
       "      <td>1480.0</td>\n",
       "      <td>0</td>\n",
       "    </tr>\n",
       "    <tr>\n",
       "      <th>4</th>\n",
       "      <td>13.24</td>\n",
       "      <td>2.59</td>\n",
       "      <td>2.87</td>\n",
       "      <td>21.0</td>\n",
       "      <td>118.0</td>\n",
       "      <td>2.80</td>\n",
       "      <td>2.69</td>\n",
       "      <td>0.39</td>\n",
       "      <td>1.82</td>\n",
       "      <td>4.32</td>\n",
       "      <td>1.04</td>\n",
       "      <td>2.93</td>\n",
       "      <td>735.0</td>\n",
       "      <td>0</td>\n",
       "    </tr>\n",
       "    <tr>\n",
       "      <th>...</th>\n",
       "      <td>...</td>\n",
       "      <td>...</td>\n",
       "      <td>...</td>\n",
       "      <td>...</td>\n",
       "      <td>...</td>\n",
       "      <td>...</td>\n",
       "      <td>...</td>\n",
       "      <td>...</td>\n",
       "      <td>...</td>\n",
       "      <td>...</td>\n",
       "      <td>...</td>\n",
       "      <td>...</td>\n",
       "      <td>...</td>\n",
       "      <td>...</td>\n",
       "    </tr>\n",
       "    <tr>\n",
       "      <th>173</th>\n",
       "      <td>13.71</td>\n",
       "      <td>5.65</td>\n",
       "      <td>2.45</td>\n",
       "      <td>20.5</td>\n",
       "      <td>95.0</td>\n",
       "      <td>1.68</td>\n",
       "      <td>0.61</td>\n",
       "      <td>0.52</td>\n",
       "      <td>1.06</td>\n",
       "      <td>7.70</td>\n",
       "      <td>0.64</td>\n",
       "      <td>1.74</td>\n",
       "      <td>740.0</td>\n",
       "      <td>2</td>\n",
       "    </tr>\n",
       "    <tr>\n",
       "      <th>174</th>\n",
       "      <td>13.40</td>\n",
       "      <td>3.91</td>\n",
       "      <td>2.48</td>\n",
       "      <td>23.0</td>\n",
       "      <td>102.0</td>\n",
       "      <td>1.80</td>\n",
       "      <td>0.75</td>\n",
       "      <td>0.43</td>\n",
       "      <td>1.41</td>\n",
       "      <td>7.30</td>\n",
       "      <td>0.70</td>\n",
       "      <td>1.56</td>\n",
       "      <td>750.0</td>\n",
       "      <td>2</td>\n",
       "    </tr>\n",
       "    <tr>\n",
       "      <th>175</th>\n",
       "      <td>13.27</td>\n",
       "      <td>4.28</td>\n",
       "      <td>2.26</td>\n",
       "      <td>20.0</td>\n",
       "      <td>120.0</td>\n",
       "      <td>1.59</td>\n",
       "      <td>0.69</td>\n",
       "      <td>0.43</td>\n",
       "      <td>1.35</td>\n",
       "      <td>10.20</td>\n",
       "      <td>0.59</td>\n",
       "      <td>1.56</td>\n",
       "      <td>835.0</td>\n",
       "      <td>2</td>\n",
       "    </tr>\n",
       "    <tr>\n",
       "      <th>176</th>\n",
       "      <td>13.17</td>\n",
       "      <td>2.59</td>\n",
       "      <td>2.37</td>\n",
       "      <td>20.0</td>\n",
       "      <td>120.0</td>\n",
       "      <td>1.65</td>\n",
       "      <td>0.68</td>\n",
       "      <td>0.53</td>\n",
       "      <td>1.46</td>\n",
       "      <td>9.30</td>\n",
       "      <td>0.60</td>\n",
       "      <td>1.62</td>\n",
       "      <td>840.0</td>\n",
       "      <td>2</td>\n",
       "    </tr>\n",
       "    <tr>\n",
       "      <th>177</th>\n",
       "      <td>14.13</td>\n",
       "      <td>4.10</td>\n",
       "      <td>2.74</td>\n",
       "      <td>24.5</td>\n",
       "      <td>96.0</td>\n",
       "      <td>2.05</td>\n",
       "      <td>0.76</td>\n",
       "      <td>0.56</td>\n",
       "      <td>1.35</td>\n",
       "      <td>9.20</td>\n",
       "      <td>0.61</td>\n",
       "      <td>1.60</td>\n",
       "      <td>560.0</td>\n",
       "      <td>2</td>\n",
       "    </tr>\n",
       "  </tbody>\n",
       "</table>\n",
       "<p>178 rows × 14 columns</p>\n",
       "</div>"
      ],
      "text/plain": [
       "     alcohol  malic_acid   ash  alcalinity_of_ash  magnesium  total_phenols  \\\n",
       "0      14.23        1.71  2.43               15.6      127.0           2.80   \n",
       "1      13.20        1.78  2.14               11.2      100.0           2.65   \n",
       "2      13.16        2.36  2.67               18.6      101.0           2.80   \n",
       "3      14.37        1.95  2.50               16.8      113.0           3.85   \n",
       "4      13.24        2.59  2.87               21.0      118.0           2.80   \n",
       "..       ...         ...   ...                ...        ...            ...   \n",
       "173    13.71        5.65  2.45               20.5       95.0           1.68   \n",
       "174    13.40        3.91  2.48               23.0      102.0           1.80   \n",
       "175    13.27        4.28  2.26               20.0      120.0           1.59   \n",
       "176    13.17        2.59  2.37               20.0      120.0           1.65   \n",
       "177    14.13        4.10  2.74               24.5       96.0           2.05   \n",
       "\n",
       "     flavanoids  nonflavanoid_phenols  proanthocyanins  color_intensity   hue  \\\n",
       "0          3.06                  0.28             2.29             5.64  1.04   \n",
       "1          2.76                  0.26             1.28             4.38  1.05   \n",
       "2          3.24                  0.30             2.81             5.68  1.03   \n",
       "3          3.49                  0.24             2.18             7.80  0.86   \n",
       "4          2.69                  0.39             1.82             4.32  1.04   \n",
       "..          ...                   ...              ...              ...   ...   \n",
       "173        0.61                  0.52             1.06             7.70  0.64   \n",
       "174        0.75                  0.43             1.41             7.30  0.70   \n",
       "175        0.69                  0.43             1.35            10.20  0.59   \n",
       "176        0.68                  0.53             1.46             9.30  0.60   \n",
       "177        0.76                  0.56             1.35             9.20  0.61   \n",
       "\n",
       "     od280/od315_of_diluted_wines  proline  class  \n",
       "0                            3.92   1065.0      0  \n",
       "1                            3.40   1050.0      0  \n",
       "2                            3.17   1185.0      0  \n",
       "3                            3.45   1480.0      0  \n",
       "4                            2.93    735.0      0  \n",
       "..                            ...      ...    ...  \n",
       "173                          1.74    740.0      2  \n",
       "174                          1.56    750.0      2  \n",
       "175                          1.56    835.0      2  \n",
       "176                          1.62    840.0      2  \n",
       "177                          1.60    560.0      2  \n",
       "\n",
       "[178 rows x 14 columns]"
      ]
     },
     "execution_count": 15,
     "metadata": {},
     "output_type": "execute_result"
    }
   ],
   "source": [
    "from sklearn.datasets import load_wine\n",
    "\n",
    "# Load the Wine dataset\n",
    "wine_data = load_wine()\n",
    "\n",
    "# Convert to DataFrame\n",
    "wine_df = pd.DataFrame(wine_data.data, columns=wine_data.feature_names)\n",
    "\n",
    "# Bind the 'class' (wine target) to the DataFrame\n",
    "wine_df['class'] = wine_data.target\n",
    "\n",
    "# Display the DataFrame\n",
    "wine_df\n"
   ]
  },
  {
   "cell_type": "markdown",
   "id": "721b2b17",
   "metadata": {},
   "source": [
    "#### **Question 1:** \n",
    "#### Data inspection\n",
    "\n",
    "Before fitting any model, it is essential to understand our data. **Use Python code** to answer the following questions about the **Wine dataset**:\n",
    "\n",
    "_(i)_ How many observations (rows) does the dataset contain?"
   ]
  },
  {
   "cell_type": "code",
   "execution_count": 18,
   "id": "56916892",
   "metadata": {},
   "outputs": [
    {
     "data": {
      "text/plain": [
       "178"
      ]
     },
     "execution_count": 18,
     "metadata": {},
     "output_type": "execute_result"
    }
   ],
   "source": [
    "# Your answer here\n",
    "\n",
    "wine_df.shape[0]"
   ]
  },
  {
   "cell_type": "markdown",
   "id": "f7573b59",
   "metadata": {},
   "source": [
    "_(ii)_ How many variables (columns) does the dataset contain?"
   ]
  },
  {
   "cell_type": "code",
   "execution_count": 17,
   "id": "df0ef103",
   "metadata": {},
   "outputs": [
    {
     "data": {
      "text/plain": [
       "14"
      ]
     },
     "execution_count": 17,
     "metadata": {},
     "output_type": "execute_result"
    }
   ],
   "source": [
    "# Your answer here\n",
    "\n",
    "wine_df.shape[1]"
   ]
  },
  {
   "cell_type": "markdown",
   "id": "cb5180c7",
   "metadata": {},
   "source": [
    "_(iii)_ What is the 'variable type' of the response variable `class` (e.g., 'integer', 'category', etc.)? What are the 'levels' (unique values) of the variable?"
   ]
  },
  {
   "cell_type": "code",
   "execution_count": 19,
   "id": "47989426",
   "metadata": {},
   "outputs": [
    {
     "data": {
      "text/plain": [
       "dtype('int32')"
      ]
     },
     "execution_count": 19,
     "metadata": {},
     "output_type": "execute_result"
    }
   ],
   "source": [
    "wine_df['class'].dtype\n"
   ]
  },
  {
   "cell_type": "code",
   "execution_count": 20,
   "id": "c25a5b36",
   "metadata": {},
   "outputs": [
    {
     "data": {
      "text/plain": [
       "array([0, 1, 2])"
      ]
     },
     "execution_count": 20,
     "metadata": {},
     "output_type": "execute_result"
    }
   ],
   "source": [
    "\n",
    "wine_df['class'].dtype\n",
   ]
  },
  {
   "cell_type": "markdown",
   "id": "a25f5e1b",
   "metadata": {},
   "source": [
    "\n",
    "_(iv)_ How many predictor variables do we have (Hint: all variables other than `class`)? "
   ]
  },
  {
   "cell_type": "code",
   "execution_count": 21,
   "id": "bd7b0910",
   "metadata": {},
   "outputs": [
    {
     "name": "stdout",
     "output_type": "stream",
     "text": [
      "13\n",
      "          alcohol  malic_acid         ash  alcalinity_of_ash   magnesium  \\\n",
      "count  178.000000  178.000000  178.000000         178.000000  178.000000   \n",
      "mean    13.000618    2.336348    2.366517          19.494944   99.741573   \n",
      "std      0.811827    1.117146    0.274344           3.339564   14.282484   \n",
      "min     11.030000    0.740000    1.360000          10.600000   70.000000   \n",
      "25%     12.362500    1.602500    2.210000          17.200000   88.000000   \n",
      "50%     13.050000    1.865000    2.360000          19.500000   98.000000   \n",
      "75%     13.677500    3.082500    2.557500          21.500000  107.000000   \n",
      "max     14.830000    5.800000    3.230000          30.000000  162.000000   \n",
      "\n",
      "       total_phenols  flavanoids  nonflavanoid_phenols  proanthocyanins  \\\n",
      "count     178.000000  178.000000            178.000000       178.000000   \n",
      "mean        2.295112    2.029270              0.361854         1.590899   \n",
      "std         0.625851    0.998859              0.124453         0.572359   \n",
      "min         0.980000    0.340000              0.130000         0.410000   \n",
      "25%         1.742500    1.205000              0.270000         1.250000   \n",
      "50%         2.355000    2.135000              0.340000         1.555000   \n",
      "75%         2.800000    2.875000              0.437500         1.950000   \n",
      "max         3.880000    5.080000              0.660000         3.580000   \n",
      "\n",
      "       color_intensity         hue  od280/od315_of_diluted_wines      proline  \n",
      "count       178.000000  178.000000                    178.000000   178.000000  \n",
      "mean          5.058090    0.957449                      2.611685   746.893258  \n",
      "std           2.318286    0.228572                      0.709990   314.907474  \n",
      "min           1.280000    0.480000                      1.270000   278.000000  \n",
      "25%           3.220000    0.782500                      1.937500   500.500000  \n",
      "50%           4.690000    0.965000                      2.780000   673.500000  \n",
      "75%           6.200000    1.120000                      3.170000   985.000000  \n",
      "max          13.000000    1.710000                      4.000000  1680.000000  \n"
     ]
    }
   ],
   "source": [
    "\n",
    "num_predictor_variables = wine_df.shape[1] - 1\n",
    "print(num_predictor_variables)\n",
    "print(wine_df.drop('class', axis=1).describe())"
   ]
  },
  {
   "cell_type": "markdown",
   "id": "d631e8e3",
   "metadata": {},
   "source": [
    "You can use `print()` and `describe()` to help answer these questions."
   ]
  },
  {
   "cell_type": "markdown",
   "id": "fa3832d7",
   "metadata": {},
   "source": [
    "#### **Question 2:** \n",
    "#### Standardization and data-splitting\n",
    "\n",
    "Next, we must preform 'pre-processing' or 'data munging', to prepare our data for classification/prediction. For KNN, there are three essential steps. A first essential step is to 'standardize' the predictor variables. We can achieve this using the scaler method, provided as follows:"
   ]
  },
  {
   "cell_type": "code",
   "execution_count": 22,
   "id": "cc899b59",
   "metadata": {},
   "outputs": [
    {
     "name": "stdout",
     "output_type": "stream",
     "text": [
      "    alcohol  malic_acid       ash  alcalinity_of_ash  magnesium  \\\n",
      "0  1.518613   -0.562250  0.232053          -1.169593   1.913905   \n",
      "1  0.246290   -0.499413 -0.827996          -2.490847   0.018145   \n",
      "2  0.196879    0.021231  1.109334          -0.268738   0.088358   \n",
      "3  1.691550   -0.346811  0.487926          -0.809251   0.930918   \n",
      "4  0.295700    0.227694  1.840403           0.451946   1.281985   \n",
      "\n",
      "   total_phenols  flavanoids  nonflavanoid_phenols  proanthocyanins  \\\n",
      "0       0.808997    1.034819             -0.659563         1.224884   \n",
      "1       0.568648    0.733629             -0.820719        -0.544721   \n",
      "2       0.808997    1.215533             -0.498407         2.135968   \n",
      "3       2.491446    1.466525             -0.981875         1.032155   \n",
      "4       0.808997    0.663351              0.226796         0.401404   \n",
      "\n",
      "   color_intensity       hue  od280/od315_of_diluted_wines   proline  \n",
      "0         0.251717  0.362177                      1.847920  1.013009  \n",
      "1        -0.293321  0.406051                      1.113449  0.965242  \n",
      "2         0.269020  0.318304                      0.788587  1.395148  \n",
      "3         1.186068 -0.427544                      1.184071  2.334574  \n",
      "4        -0.319276  0.362177                      0.449601 -0.037874  \n"
     ]
    }
   ],
   "source": [
    "# Select predictors (excluding the last column)\n",
    "predictors = wine_df.iloc[:, :-1]\n",
    "\n",
    "# Standardize the predictors\n",
    "scaler = StandardScaler()\n",
    "predictors_standardized = pd.DataFrame(scaler.fit_transform(predictors), columns=predictors.columns)\n",
    "\n",
    "# Display the head of the standardized predictors\n",
    "print(predictors_standardized.head())"
   ]
  },
  {
   "cell_type": "markdown",
   "id": "9981ca48",
   "metadata": {},
   "source": [
    "(i) Why is it important to standardize the predictor variables?"
   ]
  },
  {
   "cell_type": "markdown",
   "id": "403ef0bb",
   "metadata": {},
   "source": [
    "KNN is a distance-based algorithm — it uses measures like Euclidean distance to find the \"nearest\" data points. If your predictor variables are on different scales, those with larger numeric ranges will dominate the distance calculations, leading to biased and misleading results."
   ]
  },
  {
   "cell_type": "markdown",
   "id": "8e2e1bea",
   "metadata": {},
   "source": [
    "(ii) Why did we elect not to standard our response variable `Class`?"
   ]
  },
  {
   "cell_type": "markdown",
   "id": "fdee5a15",
   "metadata": {},
   "source": [
    "In algorithms like KNN or regression, the dependent variable (DV) is not part of the distance calculation or optimization for model parameters in the same way predictor variables are.\n",
    "\n",
    "In KNN, distances are calculated between predictor values only. The DV(Class) is used after neighbors are found (e.g., for majority vote or averaging).\n",
    "\n",
    "In regression, the DV(Class) is what the model predicts, not an input that needs scaling."
   ]
  },
  {
   "cell_type": "markdown",
   "id": "8077ec21",
   "metadata": {},
   "source": [
    "(iii) A second essential step is to set a random seed. Do so below (Hint: use the random.seed function). Why is setting a seed important? Is the particular seed value important? Why or why not?"
   ]
  },
  {
   "cell_type": "markdown",
   "id": "f0676c21",
   "metadata": {},
   "source": [
    "Many algorithms (e.g., random sampling, bootstrapping, K-fold cross-validation, or model initialization in machine learning) involve randomness.\n",
    "\n",
    "Without setting a seed, these processes will generate different results every time you run the code.\n",
    "\n",
    "By setting a fixed seed, you ensure that the same \"random\" numbers are generated each time; thus, you (and others) can reproduce your results exactly."
   ]
  },
  {
   "cell_type": "markdown",
   "id": "36ab9229",
   "metadata": {},
   "source": [
    "(iv) A third essential step is to split our standardized data into separate training and testing sets. We will split into 75% training and 25% testing. The provided code randomly partitions our data, and creates linked training sets for the predictors and response variables. \n",
    "\n",
    "Extend the code to create a non-overlapping test set for the predictors and response variables."
   ]
  },
  {
   "cell_type": "code",
   "execution_count": 23,
   "id": "72c101f2",
   "metadata": {},
   "outputs": [
    {
     "data": {
      "text/plain": [
       "((133, 13), (45, 13), (133,), (45,))"
      ]
     },
     "execution_count": 23,
     "metadata": {},
     "output_type": "execute_result"
    }
   ],
   "source": [
    "# set a seed for reproducibility\n",
    "np.random.seed(123)\n",
    "\n",
    "\n",
    "# split the data into a training and testing set. hint: use train_test_split !\n",
    "\n",
    "X_train, X_test, y_train, y_test = train_test_split(predictors_standardized, wine_df['class'], test_size=0.25)\n",
    "\n",
    "X_train.shape, X_test.shape, y_train.shape, y_test.shape"
   ]
  },
  {
   "cell_type": "markdown",
   "id": "4604ee03",
   "metadata": {},
   "source": [
    "#### **Question 3:**\n",
    "#### Model initialization and cross-validation\n",
    "We are finally set to fit the KNN model. \n",
    "\n",
    "\n",
    "Perform a grid search to tune the `n_neighbors` hyperparameter using 10-fold cross-validation. Follow these steps:\n",
    "\n",
    "1. Initialize the KNN classifier using `KNeighborsClassifier()`.\n",
    "2. Define a parameter grid for `n_neighbors` ranging from 1 to 50.\n",
    "3. Implement a grid search using `GridSearchCV` with 10-fold cross-validation to find the optimal number of neighbors.\n",
    "4. After fitting the model on the training data, identify and return the best value for `n_neighbors` based on the grid search results."
   ]
  },
  {
   "cell_type": "code",
   "execution_count": 24,
   "id": "08818c64",
   "metadata": {},
   "outputs": [
    {
     "name": "stdout",
     "output_type": "stream",
     "text": [
      "Best n_neighbors: 15\n"
     ]
    }
   ],
   "source": [
    "# Your code here...\n",
    "import numpy as np\n",
    "# 1. Initialize the KNN classifier\n",
    "knn = KNeighborsClassifier()\n",
    "\n",
    "# 2. Define the parameter grid\n",
    "param_grid = {'n_neighbors': np.arange(1, 51)}\n",
    "\n",
    "# 3. Implement grid search with 10-fold cross-validation\n",
    "grid_search = GridSearchCV(knn, param_grid, cv=10)\n",
    "\n",
    "# Fit the model on the training data\n",
    "grid_search.fit(X_train, y_train)\n",
    "\n",
    "# 4. Identify and return the best value for n_neighbors\n",
    "best_n_neighbors = grid_search.best_params_['n_neighbors']\n",
    "print(\"Best n_neighbors:\", best_n_neighbors)\n"
   ]
  },
  {
   "cell_type": "markdown",
   "id": "3f76bf62",
   "metadata": {},
   "source": [
    "#### **Question 4:**\n",
    "#### Model evaluation\n",
    "\n",
    "Using the best value for `n_neighbors`, fit a KNN model on the training data and evaluate its performance on the test set using `accuracy_score`."
   ]
  },
  {
   "cell_type": "code",
   "execution_count": 25,
   "id": "ffefa9f2",
   "metadata": {},
   "outputs": [
    {
     "name": "stdout",
     "output_type": "stream",
     "text": [
      "Accuracy on the test set: 0.9333333333333333\n"
     ]
    }
   ],
   "source": [
    "# Your code here...\n",
    "# Fit the KNN model with the best n_neighbors\n",
    "best_knn = KNeighborsClassifier(n_neighbors=best_n_neighbors)\n",
    "best_knn.fit(X_train, y_train)\n",
    "\n",
    "# Predict on the test set\n",
    "y_pred = best_knn.predict(X_test)\n",
    "\n",
    "# Evaluate performance using accuracy_score\n",
    "accuracy = accuracy_score(y_test, y_pred)\n",
    "print(\"Accuracy on the test set:\", accuracy)\n"
   ]
  },
  {
   "cell_type": "code",
   "execution_count": 26,
   "id": "68cec7f3",
   "metadata": {},
   "outputs": [
    {
     "data": {
      "text/plain": [
       "<sklearn.metrics._plot.confusion_matrix.ConfusionMatrixDisplay at 0x2302fbdb970>"
      ]
     },
     "execution_count": 26,
     "metadata": {},
     "output_type": "execute_result"
    },
    {
     "data": {
      "image/png": "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",
      "text/plain": [
       "<Figure size 640x480 with 2 Axes>"
      ]
     },
     "metadata": {},
     "output_type": "display_data"
    }
   ],
   "source": [
    "from sklearn.metrics import confusion_matrix, ConfusionMatrixDisplay\n",
    "\n",
    "cm = confusion_matrix(y_test, y_pred)\n",
    "disp = ConfusionMatrixDisplay(confusion_matrix=cm, display_labels=best_knn.classes_)\n",
    "disp.plot()"
   ]
  },
  {
   "cell_type": "code",
   "execution_count": null,
   "id": "e36f137e",
   "metadata": {},
   "outputs": [],
   "source": []
  },
  {
   "cell_type": "markdown",
   "id": "6f8a69db",
   "metadata": {},
   "source": [
    "# Criteria\n",
    "\n",
    "\n",
    "| **Criteria**                                           | **Complete**                                      | **Incomplete**                                    |\n",
    "|--------------------------------------------------------|---------------------------------------------------|--------------------------------------------------|\n",
    "| **Data Inspection**                                    | Data is inspected for number of variables, observations and data types. | Data inspection is missing or incomplete.         |\n",
    "| **Data Scaling**                                       | Data scaling or normalization is applied where necessary (e.g., using `StandardScaler`). | Data scaling or normalization is missing or incorrectly applied. |\n",
    "| **Model Initialization**                               | The KNN model is correctly initialized and a random seed is set for reproducibility.            | The KNN model is not initialized, is incorrect, or lacks a random seed for reproducibility. |\n",
    "| **Parameter Grid for `n_neighbors`**                   | The parameter grid for `n_neighbors` is correctly defined. | The parameter grid is missing or incorrectly defined. |\n",
    "| **Cross-Validation Setup**                             | Cross-validation is set up correctly with 10 folds. | Cross-validation is missing or incorrectly set up. |\n",
    "| **Best Hyperparameter (`n_neighbors`) Selection**       | The best value for `n_neighbors` is identified using the grid search results. | The best `n_neighbors` is not selected or incorrect. |\n",
    "| **Model Evaluation on Test Data**                      | The model is evaluated on the test data using accuracy. | The model evaluation is missing or uses the wrong metric. |\n"
   ]
  },
  {
   "cell_type": "markdown",
   "id": "0b4390cc",
   "metadata": {},
   "source": [
    "## Submission Information\n",
    "\n",
    "🚨 **Please review our [Assignment Submission Guide](https://github.com/UofT-DSI/onboarding/blob/main/onboarding_documents/submissions.md)** 🚨 for detailed instructions on how to format, branch, and submit your work. Following these guidelines is crucial for your submissions to be evaluated correctly.\n",
    "\n",
    "### Note:\n",
    "\n",
    "If you like, you may collaborate with others in the cohort. If you choose to do so, please indicate with whom you have worked with in your pull request by tagging their GitHub username. Separate submissions are required.\n",
    "\n",
    "### Submission Parameters:\n",
    "* Submission Due Date: `11:59 PM - 05/18/2025`\n",
    "* The branch name for your repo should be: `assignment-1`\n",
    "* What to submit for this assignment:\n",
    "    * This Jupyter Notebook (assignment_3.ipynb) should be populated and should be the only change in your pull request.\n",
    "* What the pull request link should look like for this assignment: `https://github.com/<your_github_username>/LCR/pull/<pr_id>`\n",
    "    * Open a private window in your browser. Copy and paste the link to your pull request into the address bar. Make sure you can see your pull request properly. This helps the technical facilitator and learning support staff review your submission easily.\n",
    "\n",
    "Checklist:\n",
    "- [ ] Created a branch with the correct naming convention.\n",
    "- [ ] Ensured that the repository is public.\n",
    "- [ ] Reviewed the PR description guidelines and adhered to them.\n",
    "- [ ] Verify that the link is accessible in a private browser window.\n",
    "\n",
    "If you encounter any difficulties or have questions, please don't hesitate to reach out to our team via our Slack at `#cohort-6-help`. Our Technical Facilitators and Learning Support staff are here to help you navigate any challenges.\n"
   ]
  }
 ],
 "metadata": {
  "kernelspec": {
   "display_name": "dsi_participant",
   "language": "python",
   "name": "python3"
  },
  "language_info": {
   "codemirror_mode": {
    "name": "ipython",
    "version": 3
   },
   "file_extension": ".py",
   "mimetype": "text/x-python",
   "name": "python",
   "nbconvert_exporter": "python",
   "pygments_lexer": "ipython3",
   "version": "3.9.15"
  }
 },
 "nbformat": 4,
 "nbformat_minor": 5
}
